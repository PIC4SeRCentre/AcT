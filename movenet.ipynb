{
 "cells": [
  {
   "cell_type": "markdown",
   "metadata": {},
   "source": [
    "### Notes\n",
    "**Frame cropping**"
   ]
  },
  {
   "cell_type": "markdown",
   "metadata": {
    "id": "10_zkgbZBkIE"
   },
   "source": [
    "# Human Pose Estimation with MoveNet"
   ]
  },
  {
   "cell_type": "markdown",
   "metadata": {
    "id": "9u_VGR6_BmbZ"
   },
   "source": [
    "## Visualization libraries & Imports"
   ]
  },
  {
   "cell_type": "code",
   "execution_count": 2,
   "metadata": {
    "id": "9BLeJv-pCCld"
   },
   "outputs": [],
   "source": [
    "from tensorflow_docs.vis import embed\n",
    "import numpy as np\n",
    "import cv2\n",
    "\n",
    "# Import matplotlib libraries\n",
    "from matplotlib import pyplot as plt\n",
    "from matplotlib.collections import LineCollection\n",
    "import matplotlib.patches as patches\n",
    "\n",
    "# Some modules to display an animation using imageio.\n",
    "import imageio\n",
    "from IPython.display import HTML, display\n",
    "\n",
    "import tensorflow as tf"
   ]
  },
  {
   "cell_type": "code",
   "execution_count": 3,
   "metadata": {
    "cellView": "form",
    "id": "bEJBMeRb3YUy"
   },
   "outputs": [],
   "source": [
    "# @title Helper functions for visualization\n",
    "\n",
    "# Dictionary that maps from joint names to keypoint indices.\n",
    "KEYPOINT_DICT = {\n",
    "    \"nose\": 0,\n",
    "    \"left_eye\": 1,\n",
    "    \"right_eye\": 2,\n",
    "    \"left_ear\": 3,\n",
    "    \"right_ear\": 4,\n",
    "    \"left_shoulder\": 5,\n",
    "    \"right_shoulder\": 6,\n",
    "    \"left_elbow\": 7,\n",
    "    \"right_elbow\": 8,\n",
    "    \"left_wrist\": 9,\n",
    "    \"right_wrist\": 10,\n",
    "    \"left_hip\": 11,\n",
    "    \"right_hip\": 12,\n",
    "    \"left_knee\": 13,\n",
    "    \"right_knee\": 14,\n",
    "    \"left_ankle\": 15,\n",
    "    \"right_ankle\": 16,\n",
    "}\n",
    "\n",
    "# Maps bones to a matplotlib color name.\n",
    "KEYPOINT_EDGE_INDS_TO_COLOR = {\n",
    "    (0, 1): \"m\",\n",
    "    (0, 2): \"c\",\n",
    "    (1, 3): \"m\",\n",
    "    (2, 4): \"c\",\n",
    "    (0, 5): \"m\",\n",
    "    (0, 6): \"c\",\n",
    "    (5, 7): \"m\",\n",
    "    (7, 9): \"m\",\n",
    "    (6, 8): \"c\",\n",
    "    (8, 10): \"c\",\n",
    "    (5, 6): \"y\",\n",
    "    (5, 11): \"m\",\n",
    "    (6, 12): \"c\",\n",
    "    (11, 12): \"y\",\n",
    "    (11, 13): \"m\",\n",
    "    (13, 15): \"m\",\n",
    "    (12, 14): \"c\",\n",
    "    (14, 16): \"c\",\n",
    "}\n",
    "\n",
    "\n",
    "def _keypoints_and_edges_for_display(\n",
    "    keypoints_with_scores, height, width, keypoint_threshold=0.11\n",
    "):\n",
    "    \"\"\"Returns high confidence keypoints and edges for visualization.\n",
    "\n",
    "    Args:\n",
    "      keypoints_with_scores: A numpy array with shape [1, 1, 17, 3] representing\n",
    "        the keypoint coordinates and scores returned from the MoveNet model.\n",
    "      height: height of the image in pixels.\n",
    "      width: width of the image in pixels.\n",
    "      keypoint_threshold: minimum confidence score for a keypoint to be\n",
    "        visualized.\n",
    "\n",
    "    Returns:\n",
    "      A (keypoints_xy, edges_xy, edge_colors) containing:\n",
    "        * the coordinates of all keypoints of all detected entities;\n",
    "        * the coordinates of all skeleton edges of all detected entities;\n",
    "        * the colors in which the edges should be plotted.\n",
    "    \"\"\"\n",
    "    keypoints_all = []\n",
    "    keypoint_edges_all = []\n",
    "    edge_colors = []\n",
    "    num_instances, _, _, _ = keypoints_with_scores.shape\n",
    "    for idx in range(num_instances):\n",
    "        kpts_x = keypoints_with_scores[0, idx, :, 1]\n",
    "        kpts_y = keypoints_with_scores[0, idx, :, 0]\n",
    "        kpts_scores = keypoints_with_scores[0, idx, :, 2]\n",
    "        kpts_absolute_xy = np.stack(\n",
    "            [width * np.array(kpts_x), height * np.array(kpts_y)], axis=-1\n",
    "        )\n",
    "        kpts_above_thresh_absolute = kpts_absolute_xy[\n",
    "            kpts_scores > keypoint_threshold, :\n",
    "        ]\n",
    "        keypoints_all.append(kpts_above_thresh_absolute)\n",
    "\n",
    "        for edge_pair, color in KEYPOINT_EDGE_INDS_TO_COLOR.items():\n",
    "            if (\n",
    "                kpts_scores[edge_pair[0]] > keypoint_threshold\n",
    "                and kpts_scores[edge_pair[1]] > keypoint_threshold\n",
    "            ):\n",
    "                x_start = kpts_absolute_xy[edge_pair[0], 0]\n",
    "                y_start = kpts_absolute_xy[edge_pair[0], 1]\n",
    "                x_end = kpts_absolute_xy[edge_pair[1], 0]\n",
    "                y_end = kpts_absolute_xy[edge_pair[1], 1]\n",
    "                line_seg = np.array([[x_start, y_start], [x_end, y_end]])\n",
    "                keypoint_edges_all.append(line_seg)\n",
    "                edge_colors.append(color)\n",
    "    if keypoints_all:\n",
    "        keypoints_xy = np.concatenate(keypoints_all, axis=0)\n",
    "    else:\n",
    "        keypoints_xy = np.zeros((0, 17, 2))\n",
    "\n",
    "    if keypoint_edges_all:\n",
    "        edges_xy = np.stack(keypoint_edges_all, axis=0)\n",
    "    else:\n",
    "        edges_xy = np.zeros((0, 2, 2))\n",
    "    return keypoints_xy, edges_xy, edge_colors\n",
    "\n",
    "\n",
    "def draw_prediction_on_image(\n",
    "    image,\n",
    "    keypoints_with_scores,\n",
    "    crop_region=None,\n",
    "    close_figure=False,\n",
    "    output_image_height=None,\n",
    "):\n",
    "    \"\"\"Draws the keypoint predictions on image.\n",
    "\n",
    "    Args:\n",
    "      image: A numpy array with shape [height, width, channel] representing the\n",
    "        pixel values of the input image.\n",
    "      keypoints_with_scores: A numpy array with shape [1, 1, 17, 3] representing\n",
    "        the keypoint coordinates and scores returned from the MoveNet model.\n",
    "      crop_region: A dictionary that defines the coordinates of the bounding box\n",
    "        of the crop region in normalized coordinates (see the init_crop_region\n",
    "        function below for more detail). If provided, this function will also\n",
    "        draw the bounding box on the image.\n",
    "      output_image_height: An integer indicating the height of the output image.\n",
    "        Note that the image aspect ratio will be the same as the input image.\n",
    "\n",
    "    Returns:\n",
    "      A numpy array with shape [out_height, out_width, channel] representing the\n",
    "      image overlaid with keypoint predictions.\n",
    "    \"\"\"\n",
    "    height, width, channel = image.shape\n",
    "    aspect_ratio = float(width) / height\n",
    "    fig, ax = plt.subplots(figsize=(12 * aspect_ratio, 12))\n",
    "    # To remove the huge white borders\n",
    "    fig.tight_layout(pad=0)\n",
    "    ax.margins(0)\n",
    "    ax.set_yticklabels([])\n",
    "    ax.set_xticklabels([])\n",
    "    plt.axis(\"off\")\n",
    "\n",
    "    im = ax.imshow(image)\n",
    "    line_segments = LineCollection([], linewidths=(4), linestyle=\"solid\")\n",
    "    ax.add_collection(line_segments)\n",
    "    # Turn off tick labels\n",
    "    scat = ax.scatter([], [], s=60, color=\"#FF1493\", zorder=3)\n",
    "\n",
    "    (keypoint_locs, keypoint_edges, edge_colors) = _keypoints_and_edges_for_display(\n",
    "        keypoints_with_scores, height, width\n",
    "    )\n",
    "\n",
    "    line_segments.set_segments(keypoint_edges)\n",
    "    line_segments.set_color(edge_colors)\n",
    "    if keypoint_edges.shape[0]:\n",
    "        line_segments.set_segments(keypoint_edges)\n",
    "        line_segments.set_color(edge_colors)\n",
    "    if keypoint_locs.shape[0]:\n",
    "        scat.set_offsets(keypoint_locs)\n",
    "\n",
    "    if crop_region is not None:\n",
    "        xmin = max(crop_region[\"x_min\"] * width, 0.0)\n",
    "        ymin = max(crop_region[\"y_min\"] * height, 0.0)\n",
    "        rec_width = min(crop_region[\"x_max\"], 0.99) * width - xmin\n",
    "        rec_height = min(crop_region[\"y_max\"], 0.99) * height - ymin\n",
    "        rect = patches.Rectangle(\n",
    "            (xmin, ymin),\n",
    "            rec_width,\n",
    "            rec_height,\n",
    "            linewidth=1,\n",
    "            edgecolor=\"b\",\n",
    "            facecolor=\"none\",\n",
    "        )\n",
    "        ax.add_patch(rect)\n",
    "\n",
    "    fig.canvas.draw()\n",
    "    image_from_plot = np.frombuffer(fig.canvas.buffer_rgba(), dtype=np.uint8)\n",
    "    image_from_plot = image_from_plot.reshape(\n",
    "        fig.canvas.get_width_height()[::-1] + (4,)\n",
    "    )\n",
    "    plt.close(fig)\n",
    "    if output_image_height is not None:\n",
    "        output_image_width = int(output_image_height / height * width)\n",
    "        image_from_plot = cv2.resize(\n",
    "            image_from_plot,\n",
    "            dsize=(output_image_width, output_image_height),\n",
    "            interpolation=cv2.INTER_CUBIC,\n",
    "        )\n",
    "    return image_from_plot\n",
    "\n",
    "\n",
    "def to_gif(images, duration):\n",
    "    \"\"\"Converts image sequence (4D numpy array) to gif.\"\"\"\n",
    "    imageio.mimsave(\"./animation.gif\", images, duration=duration)\n",
    "    return embed.embed_file(\"./animation.gif\")\n",
    "\n",
    "\n",
    "def progress(value, max=100):\n",
    "    return HTML(\n",
    "        \"\"\"\n",
    "      <progress\n",
    "          value='{value}'\n",
    "          max='{max}',\n",
    "          style='width: 100%'\n",
    "      >\n",
    "          {value}\n",
    "      </progress>\n",
    "  \"\"\".format(\n",
    "            value=value, max=max\n",
    "        )\n",
    "    )"
   ]
  },
  {
   "cell_type": "code",
   "execution_count": null,
   "metadata": {},
   "outputs": [],
   "source": [
    "5760000 / 4"
   ]
  },
  {
   "cell_type": "markdown",
   "metadata": {
    "id": "UvrN0iQiOxhR"
   },
   "source": [
    "## Load Model from TF hub"
   ]
  },
  {
   "cell_type": "code",
   "execution_count": null,
   "metadata": {
    "id": "zeGHgANcT7a1"
   },
   "outputs": [],
   "source": [
    "# Initialize the TFLite interpreter\n",
    "interpreter = tf.lite.Interpreter(\n",
    "    model_path=\"bin/movenet_single_pose_lightning_ptq.tflite\"\n",
    ")\n",
    "interpreter.allocate_tensors()\n",
    "input_size = 192\n",
    "\n",
    "\n",
    "def movenet(input_image):\n",
    "    \"\"\"Runs detection on an input image.\n",
    "\n",
    "    Args:\n",
    "      input_image: A [1, height, width, 3] tensor represents the input image\n",
    "        pixels. Note that the height/width should already be resized and match the\n",
    "        expected input resolution of the model before passing into this function.\n",
    "\n",
    "    Returns:\n",
    "      A [1, 1, 17, 3] float numpy array representing the predicted keypoint\n",
    "      coordinates and scores.\n",
    "    \"\"\"\n",
    "    # TF Lite format expects tensor type of uint8.\n",
    "    input_image = tf.cast(input_image, dtype=tf.uint8)\n",
    "    input_details = interpreter.get_input_details()\n",
    "    output_details = interpreter.get_output_details()\n",
    "    interpreter.set_tensor(input_details[0][\"index\"], input_image.numpy())\n",
    "    # Invoke inference.\n",
    "    interpreter.invoke()\n",
    "    # Get the model prediction.\n",
    "    keypoints_with_scores = interpreter.get_tensor(output_details[0][\"index\"])\n",
    "    return keypoints_with_scores"
   ]
  },
  {
   "cell_type": "markdown",
   "metadata": {
    "id": "-h1qHYaqD9ap"
   },
   "source": [
    "## Single Image Example"
   ]
  },
  {
   "cell_type": "markdown",
   "metadata": {
    "id": "ymTVR2I9x22I"
   },
   "source": [
    "This session demonstrates the minimum working example of running the model on a **single image** to predict the 17 human keypoints."
   ]
  },
  {
   "cell_type": "markdown",
   "metadata": {
    "id": "5I3xBq80E3N_"
   },
   "source": [
    "### Load Input Image"
   ]
  },
  {
   "cell_type": "code",
   "execution_count": 5,
   "metadata": {
    "id": "GMO4B-wx5psP"
   },
   "outputs": [],
   "source": [
    "!curl -o input_image.jpeg https://images.pexels.com/photos/4384679/pexels-photo-4384679.jpeg --silent"
   ]
  },
  {
   "cell_type": "code",
   "execution_count": 6,
   "metadata": {
    "id": "lJZYQ8KYFQ6x"
   },
   "outputs": [],
   "source": [
    "# Load the input image.\n",
    "image_path = \"input_image.jpeg\"\n",
    "image = tf.io.read_file(image_path)\n",
    "image = tf.image.decode_jpeg(image)"
   ]
  },
  {
   "cell_type": "markdown",
   "metadata": {
    "id": "S_UWRdQxE6WN"
   },
   "source": [
    "### Run Inference"
   ]
  },
  {
   "cell_type": "code",
   "execution_count": null,
   "metadata": {
    "id": "VHmTwACwFW-v"
   },
   "outputs": [],
   "source": [
    "# Resize and pad the image to keep the aspect ratio and fit the expected size.\n",
    "input_image = tf.expand_dims(image, axis=0)\n",
    "input_image = tf.image.resize_with_pad(input_image, input_size, input_size)\n",
    "\n",
    "# Run model inference.\n",
    "keypoints_with_scores = movenet(input_image)\n",
    "\n",
    "# Visualize the predictions with image.\n",
    "display_image = tf.expand_dims(image, axis=0)\n",
    "display_image = tf.cast(\n",
    "    tf.image.resize_with_pad(display_image, 1280, 1280), dtype=tf.int32\n",
    ")\n",
    "output_overlay = draw_prediction_on_image(\n",
    "    np.squeeze(display_image.numpy(), axis=0), keypoints_with_scores\n",
    ")\n",
    "\n",
    "plt.figure(figsize=(5, 5))\n",
    "plt.imshow(output_overlay)\n",
    "_ = plt.axis(\"off\")"
   ]
  },
  {
   "cell_type": "code",
   "execution_count": null,
   "metadata": {},
   "outputs": [],
   "source": [
    "keypoints_with_scores.shape"
   ]
  },
  {
   "cell_type": "markdown",
   "metadata": {
    "id": "rKm-B0eMYeg8"
   },
   "source": [
    "## Video (Image Sequence) Example"
   ]
  },
  {
   "cell_type": "markdown",
   "metadata": {
    "id": "gdPFXabLyiKv"
   },
   "source": [
    "This section demonstrates how to apply intelligent cropping based on detections from the previous frame when the input is a sequence of frames. This allows the model to devote its attention and resources to the main subject, resulting in much better prediction quality without sacrificing the speed.\n"
   ]
  },
  {
   "cell_type": "code",
   "execution_count": 11,
   "metadata": {
    "cellView": "form",
    "id": "SYFdK-JHYhrv"
   },
   "outputs": [],
   "source": [
    "# @title Cropping Algorithm\n",
    "\n",
    "# Confidence score to determine whether a keypoint prediction is reliable.\n",
    "MIN_CROP_KEYPOINT_SCORE = 0.2\n",
    "\n",
    "\n",
    "def init_crop_region(image_height, image_width):\n",
    "    \"\"\"Defines the default crop region.\n",
    "\n",
    "    The function provides the initial crop region (pads the full image from both\n",
    "    sides to make it a square image) when the algorithm cannot reliably determine\n",
    "    the crop region from the previous frame.\n",
    "    \"\"\"\n",
    "    if image_width > image_height:\n",
    "        box_height = image_width / image_height\n",
    "        box_width = 1.0\n",
    "        y_min = (image_height / 2 - image_width / 2) / image_height\n",
    "        x_min = 0.0\n",
    "    else:\n",
    "        box_height = 1.0\n",
    "        box_width = image_height / image_width\n",
    "        y_min = 0.0\n",
    "        x_min = (image_width / 2 - image_height / 2) / image_width\n",
    "\n",
    "    return {\n",
    "        \"y_min\": y_min,\n",
    "        \"x_min\": x_min,\n",
    "        \"y_max\": y_min + box_height,\n",
    "        \"x_max\": x_min + box_width,\n",
    "        \"height\": box_height,\n",
    "        \"width\": box_width,\n",
    "    }\n",
    "\n",
    "\n",
    "def torso_visible(keypoints):\n",
    "    \"\"\"Checks whether there are enough torso keypoints.\n",
    "\n",
    "    This function checks whether the model is confident at predicting one of the\n",
    "    shoulders/hips which is required to determine a good crop region.\n",
    "    \"\"\"\n",
    "    return (\n",
    "        keypoints[0, 0, KEYPOINT_DICT[\"left_hip\"], 2] > MIN_CROP_KEYPOINT_SCORE\n",
    "        or keypoints[0, 0, KEYPOINT_DICT[\"right_hip\"], 2] > MIN_CROP_KEYPOINT_SCORE\n",
    "    ) and (\n",
    "        keypoints[0, 0, KEYPOINT_DICT[\"left_shoulder\"], 2] > MIN_CROP_KEYPOINT_SCORE\n",
    "        or keypoints[0, 0, KEYPOINT_DICT[\"right_shoulder\"], 2] > MIN_CROP_KEYPOINT_SCORE\n",
    "    )\n",
    "\n",
    "\n",
    "def determine_torso_and_body_range(keypoints, target_keypoints, center_y, center_x):\n",
    "    \"\"\"Calculates the maximum distance from each keypoints to the center location.\n",
    "\n",
    "    The function returns the maximum distances from the two sets of keypoints:\n",
    "    full 17 keypoints and 4 torso keypoints. The returned information will be\n",
    "    used to determine the crop size. See determineCropRegion for more detail.\n",
    "    \"\"\"\n",
    "    torso_joints = [\"left_shoulder\", \"right_shoulder\", \"left_hip\", \"right_hip\"]\n",
    "    max_torso_yrange = 0.0\n",
    "    max_torso_xrange = 0.0\n",
    "    for joint in torso_joints:\n",
    "        dist_y = abs(center_y - target_keypoints[joint][0])\n",
    "        dist_x = abs(center_x - target_keypoints[joint][1])\n",
    "        if dist_y > max_torso_yrange:\n",
    "            max_torso_yrange = dist_y\n",
    "        if dist_x > max_torso_xrange:\n",
    "            max_torso_xrange = dist_x\n",
    "\n",
    "    max_body_yrange = 0.0\n",
    "    max_body_xrange = 0.0\n",
    "    for joint in KEYPOINT_DICT.keys():\n",
    "        if keypoints[0, 0, KEYPOINT_DICT[joint], 2] < MIN_CROP_KEYPOINT_SCORE:\n",
    "            continue\n",
    "        dist_y = abs(center_y - target_keypoints[joint][0])\n",
    "        dist_x = abs(center_x - target_keypoints[joint][1])\n",
    "        if dist_y > max_body_yrange:\n",
    "            max_body_yrange = dist_y\n",
    "\n",
    "        if dist_x > max_body_xrange:\n",
    "            max_body_xrange = dist_x\n",
    "\n",
    "    return [max_torso_yrange, max_torso_xrange, max_body_yrange, max_body_xrange]\n",
    "\n",
    "\n",
    "def determine_crop_region(keypoints, image_height, image_width):\n",
    "    \"\"\"Determines the region to crop the image for the model to run inference on.\n",
    "\n",
    "    The algorithm uses the detected joints from the previous frame to estimate\n",
    "    the square region that encloses the full body of the target person and\n",
    "    centers at the midpoint of two hip joints. The crop size is determined by\n",
    "    the distances between each joints and the center point.\n",
    "    When the model is not confident with the four torso joint predictions, the\n",
    "    function returns a default crop which is the full image padded to square.\n",
    "    \"\"\"\n",
    "    target_keypoints = {}\n",
    "    for joint in KEYPOINT_DICT.keys():\n",
    "        target_keypoints[joint] = [\n",
    "            keypoints[0, 0, KEYPOINT_DICT[joint], 0] * image_height,\n",
    "            keypoints[0, 0, KEYPOINT_DICT[joint], 1] * image_width,\n",
    "        ]\n",
    "\n",
    "    if torso_visible(keypoints):\n",
    "        center_y = (\n",
    "            target_keypoints[\"left_hip\"][0] + target_keypoints[\"right_hip\"][0]\n",
    "        ) / 2\n",
    "        center_x = (\n",
    "            target_keypoints[\"left_hip\"][1] + target_keypoints[\"right_hip\"][1]\n",
    "        ) / 2\n",
    "\n",
    "        (max_torso_yrange, max_torso_xrange, max_body_yrange, max_body_xrange) = (\n",
    "            determine_torso_and_body_range(\n",
    "                keypoints, target_keypoints, center_y, center_x\n",
    "            )\n",
    "        )\n",
    "\n",
    "        crop_length_half = np.amax(\n",
    "            [\n",
    "                max_torso_xrange * 1.9,\n",
    "                max_torso_yrange * 1.9,\n",
    "                max_body_yrange * 1.2,\n",
    "                max_body_xrange * 1.2,\n",
    "            ]\n",
    "        )\n",
    "\n",
    "        tmp = np.array(\n",
    "            [center_x, image_width - center_x, center_y, image_height - center_y]\n",
    "        )\n",
    "        crop_length_half = np.amin([crop_length_half, np.amax(tmp)])\n",
    "\n",
    "        crop_corner = [center_y - crop_length_half, center_x - crop_length_half]\n",
    "\n",
    "        if crop_length_half > max(image_width, image_height) / 2:\n",
    "            return init_crop_region(image_height, image_width)\n",
    "        else:\n",
    "            crop_length = crop_length_half * 2\n",
    "            return {\n",
    "                \"y_min\": crop_corner[0] / image_height,\n",
    "                \"x_min\": crop_corner[1] / image_width,\n",
    "                \"y_max\": (crop_corner[0] + crop_length) / image_height,\n",
    "                \"x_max\": (crop_corner[1] + crop_length) / image_width,\n",
    "                \"height\": (crop_corner[0] + crop_length) / image_height\n",
    "                - crop_corner[0] / image_height,\n",
    "                \"width\": (crop_corner[1] + crop_length) / image_width\n",
    "                - crop_corner[1] / image_width,\n",
    "            }\n",
    "    else:\n",
    "        return init_crop_region(image_height, image_width)\n",
    "\n",
    "\n",
    "def crop_and_resize(image, crop_region, crop_size):\n",
    "    \"\"\"Crops and resize the image to prepare for the model input.\"\"\"\n",
    "    boxes = [\n",
    "        [\n",
    "            crop_region[\"y_min\"],\n",
    "            crop_region[\"x_min\"],\n",
    "            crop_region[\"y_max\"],\n",
    "            crop_region[\"x_max\"],\n",
    "        ]\n",
    "    ]\n",
    "    output_image = tf.image.crop_and_resize(\n",
    "        image, box_indices=[0], boxes=boxes, crop_size=crop_size\n",
    "    )\n",
    "    return output_image\n",
    "\n",
    "\n",
    "def run_inference(movenet, image, crop_region, crop_size):\n",
    "    \"\"\"Runs model inference on the cropped region.\n",
    "\n",
    "    The function runs the model inference on the cropped region and updates the\n",
    "    model output to the original image coordinate system.\n",
    "    \"\"\"\n",
    "    image_height, image_width, _ = image.shape\n",
    "    input_image = crop_and_resize(\n",
    "        tf.expand_dims(image, axis=0), crop_region, crop_size=crop_size\n",
    "    )\n",
    "    # Run model inference.\n",
    "    keypoints_with_scores = movenet(input_image)\n",
    "    # Update the coordinates.\n",
    "    for idx in range(17):\n",
    "        keypoints_with_scores[0, 0, idx, 0] = (\n",
    "            crop_region[\"y_min\"] * image_height\n",
    "            + crop_region[\"height\"] * image_height * keypoints_with_scores[0, 0, idx, 0]\n",
    "        ) / image_height\n",
    "        keypoints_with_scores[0, 0, idx, 1] = (\n",
    "            crop_region[\"x_min\"] * image_width\n",
    "            + crop_region[\"width\"] * image_width * keypoints_with_scores[0, 0, idx, 1]\n",
    "        ) / image_width\n",
    "    return keypoints_with_scores"
   ]
  },
  {
   "cell_type": "markdown",
   "metadata": {
    "id": "L2JmA1xAEntQ"
   },
   "source": [
    "### Load Input Image Sequence"
   ]
  },
  {
   "cell_type": "code",
   "execution_count": 12,
   "metadata": {
    "id": "CzJxbxDckWl2"
   },
   "outputs": [],
   "source": [
    "!wget -q -O dance.gif https://github.com/tensorflow/tfjs-models/raw/master/pose-detection/assets/dance_input.gif --silent -nc"
   ]
  },
  {
   "cell_type": "code",
   "execution_count": 13,
   "metadata": {
    "id": "IxbMFZJUkd6W"
   },
   "outputs": [],
   "source": [
    "# Load the input image.\n",
    "image_path = \"dance.gif\"\n",
    "image = tf.io.read_file(image_path)\n",
    "image = tf.image.decode_gif(image)"
   ]
  },
  {
   "cell_type": "markdown",
   "metadata": {
    "id": "CJKeQ4siEtU9"
   },
   "source": [
    "### Run Inference with Cropping Algorithm"
   ]
  },
  {
   "cell_type": "code",
   "execution_count": null,
   "metadata": {
    "id": "9B57XS0NZPIy"
   },
   "outputs": [],
   "source": [
    "# Load the input image.\n",
    "num_frames, image_height, image_width, _ = image.shape\n",
    "crop_region = init_crop_region(image_height, image_width)\n",
    "\n",
    "output_images = []\n",
    "output_keypoints = []\n",
    "bar = display(progress(0, num_frames - 1), display_id=True)\n",
    "for frame_idx in range(num_frames):\n",
    "    keypoints_with_scores = run_inference(\n",
    "        movenet,\n",
    "        image[frame_idx, :, :, :],\n",
    "        crop_region,\n",
    "        crop_size=[input_size, input_size],\n",
    "    )\n",
    "    output_keypoints.append(keypoints_with_scores)\n",
    "    output_images.append(\n",
    "        draw_prediction_on_image(\n",
    "            image[frame_idx, :, :, :].numpy().astype(np.int32),\n",
    "            keypoints_with_scores,\n",
    "            crop_region=None,\n",
    "            close_figure=True,\n",
    "            output_image_height=300,\n",
    "        )\n",
    "    )\n",
    "    crop_region = determine_crop_region(\n",
    "        keypoints_with_scores, image_height, image_width\n",
    "    )\n",
    "    bar.update(progress(frame_idx, num_frames - 1))\n",
    "\n",
    "# Prepare gif visualization.\n",
    "output = np.stack(output_images, axis=0)\n",
    "output_keypoints = np.stack(output_keypoints, axis=0).squeeze()\n",
    "# to_gif(output, duration=100)"
   ]
  },
  {
   "cell_type": "code",
   "execution_count": null,
   "metadata": {},
   "outputs": [],
   "source": [
    "output_keypoints.shape"
   ]
  },
  {
   "cell_type": "code",
   "execution_count": null,
   "metadata": {},
   "outputs": [],
   "source": [
    "from act_camera import preprocess\n",
    "\n",
    "X = preprocess(output_keypoints)\n",
    "X.shape"
   ]
  },
  {
   "cell_type": "code",
   "execution_count": null,
   "metadata": {},
   "outputs": [],
   "source": [
    "f = X[-1].reshape(-1, 4)[:, :2].T\n",
    "f.shape"
   ]
  },
  {
   "cell_type": "code",
   "execution_count": null,
   "metadata": {},
   "outputs": [],
   "source": [
    "import matplotlib.pyplot as plt\n",
    "\n",
    "\n",
    "# PLOT POSE\n",
    "def plot_pose(pose):\n",
    "    print(pose.shape)\n",
    "    plt.figure()\n",
    "    plt.scatter(pose[0, :], pose[1, :], color=\"red\")\n",
    "    plt.gca().set_aspect(\"equal\", adjustable=\"box\")\n",
    "    plt.gca().invert_yaxis()\n",
    "    for i in range(pose.shape[1]):\n",
    "        plt.annotate(\n",
    "            i, (pose[0, i], pose[1, i]), textcoords=\"offset points\", xytext=(5, -10)\n",
    "        )\n",
    "    plt.show()\n",
    "\n",
    "\n",
    "plot_pose(f)\n",
    "plt.show()"
   ]
  },
  {
   "cell_type": "markdown",
   "metadata": {},
   "source": [
    "## Camera"
   ]
  },
  {
   "cell_type": "code",
   "execution_count": null,
   "metadata": {},
   "outputs": [],
   "source": [
    "import cv2\n",
    "\n",
    "# Open the default camera\n",
    "cam = cv2.VideoCapture(0)\n",
    "\n",
    "# Get the default frame width and height\n",
    "frame_width = int(cam.get(cv2.CAP_PROP_FRAME_WIDTH))\n",
    "frame_height = int(cam.get(cv2.CAP_PROP_FRAME_HEIGHT))\n",
    "\n",
    "# Define the codec and create VideoWriter object\n",
    "fourcc = cv2.VideoWriter_fourcc(*\"mp4v\")\n",
    "# out = cv2.VideoWriter('output.mp4', fourcc, 20.0, (frame_width, frame_height))\n",
    "\n",
    "while True:\n",
    "    ret, frame = cam.read()\n",
    "\n",
    "    # Write the frame to the output file\n",
    "    # out.write(frame)\n",
    "\n",
    "    # Display the captured frame\n",
    "    cv2.imshow(\"Camera\", frame)\n",
    "\n",
    "    # Press 'q' to exit the loop\n",
    "    if cv2.waitKey(1) == ord(\"q\"):\n",
    "        break\n",
    "\n",
    "    break\n",
    "\n",
    "# Release the capture and writer objects\n",
    "cam.release()\n",
    "# out.release()\n",
    "cv2.destroyAllWindows()"
   ]
  },
  {
   "cell_type": "markdown",
   "metadata": {},
   "source": [
    "## Dataset"
   ]
  },
  {
   "cell_type": "code",
   "execution_count": null,
   "metadata": {},
   "outputs": [],
   "source": [
    "# GENERAL LIBRARIES\n",
    "import os\n",
    "\n",
    "os.environ[\"TF_CPP_MIN_LOG_LEVEL\"] = \"3\"\n",
    "import absl.logging\n",
    "\n",
    "absl.logging.set_verbosity(absl.logging.ERROR)\n",
    "import argparse\n",
    "from datetime import datetime\n",
    "\n",
    "# MACHINE LEARNING LIBRARIES\n",
    "import numpy as np\n",
    "import tensorflow as tf\n",
    "\n",
    "# CUSTOM LIBRARIES\n",
    "from utils.tools import read_yaml, Logger\n",
    "from utils.trainer import Trainer\n",
    "\n",
    "# LOAD CONFIG\n",
    "parser = argparse.ArgumentParser(description=\"Process some input\")\n",
    "parser.add_argument(\n",
    "    \"--config\",\n",
    "    default=\"utils/config.yaml\",\n",
    "    type=str,\n",
    "    help=\"Config path\",\n",
    "    required=False,\n",
    ")\n",
    "parser.add_argument(\n",
    "    \"--test\",\n",
    "    \"-t\",\n",
    "    action=\"store_true\",\n",
    "    help=\"Run a test (specify weights in the config file)\",\n",
    ")\n",
    "parser.add_argument(\"--benchmark\", \"-b\", action=\"store_true\", help=\"Run a benchmark\")\n",
    "parser.add_argument(\"--search\", \"-s\", action=\"store_true\", help=\"Run a random search\")\n",
    "\n",
    "args = parser.parse_args(\"\")\n",
    "config = read_yaml(args.config)\n",
    "\n",
    "for entry in [\"MODEL_DIR\", \"RESULTS_DIR\", \"LOG_DIR\"]:\n",
    "    if not os.path.exists(config[entry]):\n",
    "        os.mkdir(config[entry])\n",
    "\n",
    "now = datetime.now()\n",
    "logger = Logger(config[\"LOG_DIR\"] + now.strftime(\"%y%m%d%H%M%S\") + \".txt\")\n",
    "\n",
    "# SET TRAINER\n",
    "trainer = Trainer(config, logger)\n",
    "trainer.get_data()\n",
    "trainer.get_model()"
   ]
  },
  {
   "cell_type": "markdown",
   "metadata": {},
   "source": [
    "## Model"
   ]
  },
  {
   "cell_type": "code",
   "execution_count": null,
   "metadata": {},
   "outputs": [],
   "source": [
    "trainer.model.load_weights(\"utils/weights.h5\")"
   ]
  },
  {
   "cell_type": "code",
   "execution_count": null,
   "metadata": {},
   "outputs": [],
   "source": [
    "# Converting a tf.Keras model to a TensorFlow Lite model.\n",
    "converter = tf.lite.TFLiteConverter.from_keras_model(trainer.model)\n",
    "tflite_model = converter.convert()"
   ]
  }
 ],
 "metadata": {
  "accelerator": "GPU",
  "colab": {
   "collapsed_sections": [
    "9u_VGR6_BmbZ",
    "5I3xBq80E3N_",
    "L2JmA1xAEntQ"
   ],
   "name": "movenet.ipynb",
   "toc_visible": true
  },
  "kernelspec": {
   "display_name": "base",
   "language": "python",
   "name": "python3"
  },
  "language_info": {
   "codemirror_mode": {
    "name": "ipython",
    "version": 3
   },
   "file_extension": ".py",
   "mimetype": "text/x-python",
   "name": "python",
   "nbconvert_exporter": "python",
   "pygments_lexer": "ipython3",
   "version": "3.12.2"
  }
 },
 "nbformat": 4,
 "nbformat_minor": 0
}
